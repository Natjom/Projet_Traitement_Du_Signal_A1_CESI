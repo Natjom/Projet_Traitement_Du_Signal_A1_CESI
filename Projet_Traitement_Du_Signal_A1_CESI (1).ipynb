{
 "cells": [
  {
   "cell_type": "markdown",
   "id": "99afc8ad",
   "metadata": {},
   "source": [
    "# Importation des modules"
   ]
  },
  {
   "cell_type": "code",
   "execution_count": null,
   "id": "83e51784",
   "metadata": {},
   "outputs": [],
   "source": [
    "%pip install sounddevice --upgrade"
   ]
  },
  {
   "cell_type": "code",
   "execution_count": null,
   "id": "3b3c7705",
   "metadata": {},
   "outputs": [],
   "source": [
    "import numpy as np\n",
    "import matplotlib.pyplot as plt\n",
    "import sounddevice as sd\n",
    "import scipy.io.wavfile as wav"
   ]
  },
  {
   "cell_type": "markdown",
   "id": "63c390c7",
   "metadata": {},
   "source": [
    "\n",
    "# Création du message et transformation ASCII -> Binaire"
   ]
  },
  {
   "cell_type": "code",
   "execution_count": null,
   "id": "2eccdecf",
   "metadata": {},
   "outputs": [],
   "source": [
    "def textToBinary(text: str):\n",
    "    \"\"\"\n",
    "    Fonction permettant de transformer une chaine de caractère en liste binaire.\n",
    "\n",
    "    Parameters\n",
    "    ----------\n",
    "    text : str\n",
    "        Chaine de caractère (entre 5 et 10 pour notre exemple).\n",
    "\n",
    "    Returns\n",
    "    -------\n",
    "    returnList : list\n",
    "        Une liste de bits, correspondant au code ASCII de chaque caractère.\n",
    "\n",
    "    \"\"\"\n",
    "    returnList, baseList = list(), list()\n",
    "    for e in text:\n",
    "        baseList.append(bin(ord(e)))\n",
    "    for e in baseList:\n",
    "        if len(e) != 10:\n",
    "            for i in range(10-len(e)):\n",
    "                returnList.append(0)\n",
    "        for i in range(2, len(e)):\n",
    "            returnList.append(int(e[i]))\n",
    "    return (returnList)"
   ]
  },
  {
   "cell_type": "code",
   "execution_count": null,
   "id": "78aae0df",
   "metadata": {},
   "outputs": [],
   "source": [
    "# Pour notre prototype, nous n'utiliserons qu'un mesage d'entre 5 et 10 caractères (\"Bonjour !\" ← l'espace est important)\n",
    "textToSend = input(\"Entrez le message à envoyer : \")\n",
    "print(f\"\\nLe message que vous voulez envoyer est : '{textToSend}'\")\n",
    "input(\"\")\n",
    "textToSend = textToBinary(textToSend)\n",
    "print(f\"Le message sous forme binaire est :\\n{textToSend}\")"
   ]
  },
  {
   "cell_type": "markdown",
   "id": "356fbbd6",
   "metadata": {
    "scrolled": true
   },
   "source": [
    "\n",
    "# Création d'un code CRC"
   ]
  },
  {
   "cell_type": "code",
   "execution_count": null,
   "id": "60cf12e3",
   "metadata": {},
   "outputs": [],
   "source": [
    "def crc_encode(data: list, key=[1, 0, 0, 1, 0]):\n",
    "    \"\"\"\n",
    "    Fonction permettant de générer un code CRC a partir d'une liste de bits.\n",
    "\n",
    "    Parameters\n",
    "    ----------\n",
    "    data : list\n",
    "        Une liste de bits correspondant au message auquel générer un code CRC.\n",
    "    key : TYPE, optional\n",
    "        clée polynomiale. The default is [1, 0, 0, 1, 0].\n",
    "\n",
    "    Returns\n",
    "    -------\n",
    "    list\n",
    "        Le code CRC sous forme de liste de bits.\n",
    "\n",
    "    \"\"\"\n",
    "    data_extended = data + [0] * (len(key) - 1)\n",
    "    remainder = list(data_extended)\n",
    "    for i in range(len(data_extended) - len(key) + 1):\n",
    "        if remainder[i] == 1:\n",
    "            for j in range(len(key)):\n",
    "                remainder[i + j] ^= key[j]\n",
    "    return remainder[-(len(key) - 1):]"
   ]
  },
  {
   "cell_type": "code",
   "execution_count": null,
   "id": "b6dde98c",
   "metadata": {},
   "outputs": [],
   "source": [
    "crc = crc_encode(textToSend)\n",
    "print(f\"Le code CRC est : {crc}\")"
   ]
  },
  {
   "cell_type": "markdown",
   "id": "936beeb2",
   "metadata": {},
   "source": [
    "\n",
    "# Création d'une trame de donnés"
   ]
  },
  {
   "cell_type": "code",
   "execution_count": null,
   "id": "b06d3341",
   "metadata": {},
   "outputs": [],
   "source": [
    "def toFrame(data: list, crc: list):\n",
    "    \"\"\"\n",
    "    Fonction permettant de créer une trame de bits en fonction d'une liste de\n",
    "    bits représentant les donnés à envoyer et du code CRC des mêmes donnés.\n",
    "\n",
    "    Parameters\n",
    "    ----------\n",
    "    data : list\n",
    "        Une liste de bits correspondant au message auquel générer un code CRC.\n",
    "    crc : list\n",
    "        Code CRC des donnés binaryList.\n",
    "\n",
    "    Returns\n",
    "    -------\n",
    "    returnList : list\n",
    "        Une liste de bits composé de deux fanions au extrêmités, de la donnée\n",
    "        principale et d'un code CRC.\n",
    "\n",
    "    \"\"\"\n",
    "    flag = [0, 1, 1, 1, 1, 1, 1, 0]  # Le flag choisis est 7E (HDLC)\n",
    "    returnList = flag + data + crc + flag\n",
    "    return returnList"
   ]
  },
  {
   "cell_type": "code",
   "execution_count": null,
   "id": "25930765",
   "metadata": {},
   "outputs": [],
   "source": [
    "textToSend = toFrame(textToSend, crc)\n",
    "print(f\"La trame de donnés à encoder est : \\n{textToSend}\")"
   ]
  },
  {
   "cell_type": "markdown",
   "id": "6a0f53e2",
   "metadata": {},
   "source": [
    "\n",
    "# Encodage manchester"
   ]
  },
  {
   "cell_type": "code",
   "execution_count": null,
   "id": "11bd8250",
   "metadata": {},
   "outputs": [],
   "source": [
    "def manchester_encode(data: list):\n",
    "    \"\"\"\n",
    "    Fonction permettant d'encoder des données binaire grâce au codage manchester.\n",
    "    Cela consiste à transformer du binaire grâce à une horloge. Un zéro deviens donc\n",
    "    une descente (de 0 à 1) et un un deviens une montée (de 1 à 0)\n",
    "\n",
    "    Parameters\n",
    "    ----------\n",
    "    data : list\n",
    "        Une liste de bits.\n",
    "\n",
    "    Returns\n",
    "    -------\n",
    "    dataManchester : TYPE\n",
    "        Une liste de bits encodée via manchester.\n",
    "\n",
    "    \"\"\"\n",
    "    dataManchester = []\n",
    "    for i in range(0, len(data)):\n",
    "        if data[i] == 0:\n",
    "            dataManchester.append(1)\n",
    "            dataManchester.append(0)\n",
    "        else:\n",
    "            dataManchester.append(0)\n",
    "            dataManchester.append(1)\n",
    "    return dataManchester"
   ]
  },
  {
   "cell_type": "code",
   "execution_count": null,
   "id": "83cd6888",
   "metadata": {},
   "outputs": [],
   "source": [
    "textToSend = manchester_encode(textToSend)\n",
    "print(f\"Les données à moduler sonts : \\n{textToSend}\")"
   ]
  },
  {
   "cell_type": "markdown",
   "id": "03087529",
   "metadata": {},
   "source": [
    "\n",
    "# Modulataion ASK"
   ]
  },
  {
   "cell_type": "code",
   "execution_count": null,
   "id": "d40c0cde",
   "metadata": {},
   "outputs": [],
   "source": [
    "def modulation_ASK(data: list, sampling_frequency=44100):\n",
    "    \"\"\"\n",
    "    Une fonction permettant de transformer un signal binaire en onde grâce à une porteuse.\n",
    "    La fréquence est choisis par défaut, mais elle peut être choisie.\n",
    "\n",
    "    Parameters\n",
    "    ----------\n",
    "    data : list\n",
    "        Donnés binaire à moduler.\n",
    "    sampling_frequency : int\n",
    "        Fréquence d'échantillonnage (en sec^-1)\n",
    "    \n",
    "    Returns\n",
    "    -------\n",
    "    Fe : int\n",
    "        Fréquence d'échantillonnage (en sec^-1)\n",
    "    ASK : list\n",
    "        Liste de donnés modulés.\n",
    "\n",
    "    \"\"\"\n",
    "    baud = 300   # Débit souhaité sur le canal de transmission exprimé en bit/s\n",
    "    Ns = int(sampling_frequency / baud)   # Nombre de symboles par bit (Fréq d'echantillonage / Débit)\n",
    "    N = int(Ns * len(data))   # Nombre de bits à moduler\n",
    "    data_ = np.repeat(data, Ns)\n",
    "    t = np.linspace(0, N / sampling_frequency, N)\n",
    "    porteuse = 1 * np.sin(2 * np.pi * 25000 * t)\n",
    "    ASK =  data_ * porteuse\n",
    "    \n",
    "    plt.figure(figsize=(12, 6))\n",
    "    plt.plot(t, data_, \"red\")\n",
    "    plt.xlabel(\"temps\")\n",
    "    plt.title(\"Binaire\")\n",
    "    plt.savefig(\"binaire.png\")\n",
    "    \n",
    "    # Figure illisible (fréquence trop élevée).\n",
    "    '''plt.figure(figsize=(12, 6))\n",
    "    plt.plot(t, porteuse, \"red\")\n",
    "    plt.xlabel(\"temps\")\n",
    "    plt.title(\"Porteuse\")\n",
    "    plt.savefig(\"porteuse.png\")'''\n",
    "    \n",
    "    plt.figure(figsize=(12, 6))\n",
    "    plt.plot(t, ASK, \"red\")\n",
    "    plt.xlabel(\"temps\")\n",
    "    plt.title(\"ASK\")\n",
    "    plt.savefig(\"ask.png\")\n",
    "    \n",
    "    return ASK, sampling_frequency"
   ]
  },
  {
   "cell_type": "code",
   "execution_count": null,
   "id": "44314f07",
   "metadata": {},
   "outputs": [],
   "source": [
    "(ASK, sampling_frequency) = modulation_ASK(textToSend)"
   ]
  },
  {
   "cell_type": "markdown",
   "id": "e0a369e7",
   "metadata": {},
   "source": [
    "\n",
    "# Envoi du message"
   ]
  },
  {
   "cell_type": "code",
   "execution_count": null,
   "id": "a7374b6f",
   "metadata": {},
   "outputs": [],
   "source": [
    "wav.write(\"soundExport.wav\", sampling_frequency, ASK)\n",
    "print(\"Le message a bien été envoyé !\")"
   ]
  },
  {
   "cell_type": "markdown",
   "id": "7d26a398",
   "metadata": {},
   "source": [
    "\n",
    "\n",
    "\n",
    "# Réception du message"
   ]
  },
  {
   "cell_type": "code",
   "execution_count": null,
   "id": "7cf08ff9",
   "metadata": {},
   "outputs": [],
   "source": [
    "f, file = wav.read('soundExport.wav')\n",
    "print(\"Le message a bien été reçu !\")"
   ]
  },
  {
   "cell_type": "markdown",
   "id": "a81fd956",
   "metadata": {},
   "source": [
    "\n",
    "# Démodulation du message"
   ]
  },
  {
   "cell_type": "code",
   "execution_count": null,
   "id": "08d9f00d",
   "metadata": {},
   "outputs": [],
   "source": [
    "def demodulation_ASK(ASK: list):\n",
    "    \"\"\"\n",
    "    Fonction permettant de démoduler des donnés ASK.\n",
    "    Note : L'erreur peut être ignorée, lors de la division des donnés par la porteuse,\n",
    "    il arrive qu'il y ait des divisions par zéro, mais python peut passer outre.\n",
    "\n",
    "    Parameters\n",
    "    ----------\n",
    "    ASK : list\n",
    "        Liste de donnés ASK à démoduler.\n",
    "\n",
    "    Returns\n",
    "    -------\n",
    "    data_ : list\n",
    "        Liste binaire correspondant au donnés démodulés.\n",
    "\n",
    "    \"\"\"\n",
    "    sampling_frequency = 44100\n",
    "    baud = 300\n",
    "    Ns = int(sampling_frequency / baud)\n",
    "    N = len(ASK)\n",
    "    t = np.linspace(0, N / sampling_frequency, N)\n",
    "    porteuse = 1 * np.sin(2 * np.pi * 25000 * t)\n",
    "    data = [0 for i in range(len(ASK))]\n",
    "    for i in range(len(ASK)):\n",
    "        try:\n",
    "            data[i] = int(ASK[i]/porteuse[i])\n",
    "        except:\n",
    "            data[i] = -1\n",
    "    data_ = [data[i] for i in range(1, len(data), Ns)]\n",
    "    return data_"
   ]
  },
  {
   "cell_type": "code",
   "execution_count": null,
   "id": "e7193374",
   "metadata": {},
   "outputs": [],
   "source": [
    "data = demodulation_ASK(file)\n",
    "print(data)"
   ]
  },
  {
   "cell_type": "markdown",
   "id": "90368399",
   "metadata": {},
   "source": [
    "# Décodage manchester"
   ]
  },
  {
   "cell_type": "code",
   "execution_count": null,
   "id": "b74cde68",
   "metadata": {},
   "outputs": [],
   "source": [
    "def manchester_decode(data: list):\n",
    "    \"\"\"\n",
    "    Fonction transformant une liste encodé en une liste décodé via manchester (utilisation d'une horloge).\n",
    "\n",
    "    Parameters\n",
    "    ----------\n",
    "    data : list\n",
    "        Liste de bits à décoder.\n",
    "\n",
    "    Returns\n",
    "    -------\n",
    "    data_ : list\n",
    "        Liste de bits décodés.\n",
    "\n",
    "    \"\"\"\n",
    "    data_ = []\n",
    "    for i in range(0, len(data), 2):\n",
    "        if data[i] == 0:\n",
    "            data_.append(1)\n",
    "        else:\n",
    "            data_.append(0)\n",
    "    return data_"
   ]
  },
  {
   "cell_type": "code",
   "execution_count": null,
   "id": "a946f9f7",
   "metadata": {},
   "outputs": [],
   "source": [
    "data = manchester_decode(data)\n",
    "print(data)"
   ]
  },
  {
   "cell_type": "markdown",
   "id": "a5ca369d",
   "metadata": {},
   "source": [
    "# Identification de la trame"
   ]
  },
  {
   "cell_type": "code",
   "execution_count": null,
   "id": "795c6ccb",
   "metadata": {},
   "outputs": [],
   "source": [
    "def pattern(data: list, pattern: list):\n",
    "    \"\"\"\n",
    "    Fonction permettant de trouver un motif sous forme de liste, dans une plus grande liste.\n",
    "\n",
    "    Parameters\n",
    "    ----------\n",
    "    data : list\n",
    "        Liste de bits où trouver le motif.\n",
    "    pattern : list\n",
    "        Liste de bits correspondant au motif à trouver.\n",
    "\n",
    "    Returns\n",
    "    -------\n",
    "    i : int\n",
    "        Indice de la liste data où est positioné le premier motif.\n",
    "\n",
    "    \"\"\"\n",
    "    pLen = len(pattern)\n",
    "    for i in range(len(data) - pLen + 1):\n",
    "        if data[i:i + pLen] == pattern:\n",
    "            return i\n",
    "    return -1\n",
    "\n",
    "\n",
    "def searchFlags(data: list):\n",
    "    \"\"\"\n",
    "    Fonction permettant de trouver des fanions 0x7E (0b01111110) puis de renvoyer\n",
    "    les donnés entre ses deux fanions sous forme de liste de bits.\n",
    "\n",
    "    Parameters\n",
    "    ----------\n",
    "    data : list\n",
    "        Liste de bits.\n",
    "\n",
    "    Returns\n",
    "    -------\n",
    "    data_ : list\n",
    "        Listde de bits correspondant au donnés entre les fanion.\n",
    "\n",
    "    \"\"\"\n",
    "    temp, data_ = list(), list()\n",
    "    p = pattern(data, [0, 1, 1, 1, 1, 1, 1, 0])\n",
    "    if p != -1:\n",
    "        temp = data[p+8:]\n",
    "        p = pattern(temp, [0, 1, 1, 1, 1, 1, 1, 0])\n",
    "        if p != -1:\n",
    "            data_ = temp[:p]\n",
    "            return data_\n",
    "    return [-1, data]"
   ]
  },
  {
   "cell_type": "code",
   "execution_count": null,
   "id": "0c4ea24e",
   "metadata": {},
   "outputs": [],
   "source": [
    "data = searchFlags(data)\n",
    "print(data)"
   ]
  },
  {
   "cell_type": "markdown",
   "id": "ffeed3d5",
   "metadata": {},
   "source": [
    "# Vérification CRC"
   ]
  },
  {
   "cell_type": "code",
   "execution_count": null,
   "id": "96dd94d7",
   "metadata": {},
   "outputs": [],
   "source": [
    "def testCRC(data: list, key_: list, key=[1, 0, 0, 1, 0]):\n",
    "    \"\"\"\n",
    "    Fonction permettant de générer un code CRC a partir d'une liste de bit et d'un\n",
    "    polynome (de base généré). \n",
    "\n",
    "    Parameters\n",
    "    ----------\n",
    "    data : list\n",
    "        Une liste de bits correspondant au message auquel générer un code CRC.\n",
    "    key_ : list\n",
    "        La clef CRC reçue.\n",
    "    key : TYPE, optional\n",
    "        Clef polynomiale. (The default is [1, 0, 0, 1, 0]).\n",
    "\n",
    "    Returns\n",
    "    -------\n",
    "    bool\n",
    "        True = Il n'y a pas eu de pertes de donnés.\n",
    "        False = Il y a pertes de donnés.\n",
    "\n",
    "    \"\"\"\n",
    "    remainder = []\n",
    "    data_extended = data + [0] * (len(key) - 1)\n",
    "    remainder = list(data_extended)\n",
    "    for i in range(len(data_extended) - len(key) + 1):\n",
    "        if remainder[i] == 1:\n",
    "            for j in range(len(key)):\n",
    "                remainder[i + j] ^= key[j]\n",
    "    remainder = remainder[-(len(key) - 1):]\n",
    "    print(f\"Le code reçue est est {key_}\")\n",
    "    print(f\"Le code trouvé est {remainder}\")\n",
    "    if remainder == key_:\n",
    "        print(\"Pas de perte\")\n",
    "        return True\n",
    "    else:\n",
    "        print(\"Il y a eu une perte de donnés\")\n",
    "        return False"
   ]
  },
  {
   "cell_type": "code",
   "execution_count": null,
   "id": "870ac408",
   "metadata": {},
   "outputs": [],
   "source": [
    "data, crc = data[:len(data)-4], data[len(data)-4:]\n",
    "check = testCRC(data, crc)"
   ]
  },
  {
   "cell_type": "markdown",
   "id": "225ba499",
   "metadata": {},
   "source": [
    "# Traduction du message (Binaire -> ASCII)"
   ]
  },
  {
   "cell_type": "code",
   "execution_count": null,
   "id": "7db764bb",
   "metadata": {},
   "outputs": [],
   "source": [
    "def binToText(data: list):\n",
    "    \"\"\"\n",
    "    Fonction qui transforme une list de bits en leurs correspondance\n",
    "    ascii texte. Il faut que les donnés soit un multiple de huit.\n",
    "\n",
    "    Parameters\n",
    "    ----------\n",
    "    data : list\n",
    "        Liste de bits.\n",
    "    Returns\n",
    "    -------\n",
    "    txt : str\n",
    "        Chaine de caractère correspondant a la transcription ASCII des octets.\n",
    "\n",
    "    \"\"\"\n",
    "    txt, tmp, decimalList = \"\", 0, []\n",
    "    for i in range(0, len(data), 8):\n",
    "        tmpL, tmp = [], 0\n",
    "        for j in range(8):\n",
    "            tmpL.append(data[i+j])\n",
    "        tmpL.reverse()\n",
    "        for i in range(8):\n",
    "            tmp += tmpL[i] * (2 ** i)\n",
    "        decimalList.append(tmp)\n",
    "    for e in decimalList:\n",
    "        txt += chr(e)\n",
    "    return txt"
   ]
  },
  {
   "cell_type": "code",
   "execution_count": null,
   "id": "5b319dd6",
   "metadata": {},
   "outputs": [],
   "source": [
    "txt = binToText(data)\n",
    "print(f\"Le massage est :\\n{txt}\")"
   ]
  }
 ],
 "metadata": {
  "kernelspec": {
   "display_name": "Python 3 (ipykernel)",
   "language": "python",
   "name": "python3"
  },
  "language_info": {
   "codemirror_mode": {
    "name": "ipython",
    "version": 3
   },
   "file_extension": ".py",
   "mimetype": "text/x-python",
   "name": "python",
   "nbconvert_exporter": "python",
   "pygments_lexer": "ipython3",
   "version": "3.11.5"
  }
 },
 "nbformat": 4,
 "nbformat_minor": 5
}
